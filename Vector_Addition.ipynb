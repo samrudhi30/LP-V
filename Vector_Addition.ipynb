{
  "nbformat": 4,
  "nbformat_minor": 0,
  "metadata": {
    "colab": {
      "provenance": [],
      "gpuType": "T4"
    },
    "kernelspec": {
      "name": "python3",
      "display_name": "Python 3"
    },
    "language_info": {
      "name": "python"
    },
    "accelerator": "GPU",
    "gpuClass": "standard"
  },
  "cells": [
    {
      "cell_type": "code",
      "execution_count": null,
      "metadata": {
        "colab": {
          "base_uri": "https://localhost:8080/"
        },
        "id": "mr7xhVkBd3Nz",
        "outputId": "56b3ab11-e514-4c74-fa45-4008e511687e"
      },
      "outputs": [
        {
          "output_type": "stream",
          "name": "stdout",
          "text": [
            "nvcc: NVIDIA (R) Cuda compiler driver\n",
            "Copyright (c) 2005-2022 NVIDIA Corporation\n",
            "Built on Wed_Sep_21_10:33:58_PDT_2022\n",
            "Cuda compilation tools, release 11.8, V11.8.89\n",
            "Build cuda_11.8.r11.8/compiler.31833905_0\n"
          ]
        }
      ],
      "source": [
        "!nvcc --version"
      ]
    },
    {
      "cell_type": "code",
      "source": [
        "code = \"\"\"\n",
        "#include <stdio.h>\n",
        "#include <stdlib.h>\n",
        "#define N 1000000\n",
        "__global__ void add(int *a, int *b, int *c) {\n",
        "int tid = blockIdx.x * blockDim.x + threadIdx.x;\n",
        "if (tid < N) {\n",
        "c[tid] = a[tid] + b[tid];\n",
        "}\n",
        "}\n",
        "int main() {\n",
        "int *a, *b, *c;\n",
        "int *d_a, *d_b, *d_c;\n",
        "int size = N * sizeof(int);\n",
        "// Allocate memory on host\n",
        "a = (int*)malloc(size);\n",
        "b = (int*)malloc(size);\n",
        "c = (int*)malloc(size);\n",
        "// Initialize arrays\n",
        "for (int i = 0; i < N; i++) {\n",
        "a[i] = i;\n",
        "b[i] = i * 2;\n",
        "}\n",
        "// Allocate memory on device\n",
        "cudaMalloc(&d_a, size);\n",
        "cudaMalloc(&d_b, size);\n",
        "cudaMalloc(&d_c, size);\n",
        "// Copy data from host to device\n",
        "cudaMemcpy(d_a, a, size, cudaMemcpyHostToDevice);\n",
        "cudaMemcpy(d_b, b, size, cudaMemcpyHostToDevice);\n",
        "// Launch kernel with 1 million threads\n",
        "add<<<(N + 255) / 256, 256>>>(d_a, d_b, d_c);\n",
        "// Copy result from device to host\n",
        "cudaMemcpy(c, d_c, size, cudaMemcpyDeviceToHost);\n",
        "// Print first and last elements of result\n",
        "printf(\"c[0]=%d, c[%d] = %d\",c[0],N-1,c[N-1]);\n",
        "// Free memory\n",
        "free(a);\n",
        "free(b);\n",
        "free(c);\n",
        "cudaFree(d_a);\n",
        "cudaFree(d_b);\n",
        "cudaFree(d_c);\n",
        "return 0;\n",
        "}\n",
        "\"\"\""
      ],
      "metadata": {
        "id": "CmFdml6Eexbx"
      },
      "execution_count": null,
      "outputs": []
    },
    {
      "cell_type": "code",
      "source": [
        "text_file = open(\"assign4.cu\",\"w\")\n",
        "text_file.write(code)\n",
        "text_file.close()"
      ],
      "metadata": {
        "id": "_yUZ2yw5fESS"
      },
      "execution_count": null,
      "outputs": []
    },
    {
      "cell_type": "code",
      "source": [
        "!nvcc assign4.cu"
      ],
      "metadata": {
        "id": "lpfCTbiBfVCk"
      },
      "execution_count": null,
      "outputs": []
    },
    {
      "cell_type": "code",
      "source": [
        "!./a.out"
      ],
      "metadata": {
        "colab": {
          "base_uri": "https://localhost:8080/"
        },
        "id": "dHyxT0ktfb6O",
        "outputId": "a28d7f40-3c0e-4501-90e1-bfbb1bf9a451"
      },
      "execution_count": null,
      "outputs": [
        {
          "output_type": "stream",
          "name": "stdout",
          "text": [
            "c[0]=0, c[999999] = 2999997"
          ]
        }
      ]
    },
    {
      "cell_type": "code",
      "source": [
        "!nvprof ./a.out"
      ],
      "metadata": {
        "colab": {
          "base_uri": "https://localhost:8080/"
        },
        "id": "GWLNl-iffi_9",
        "outputId": "4e78b891-c6df-448d-ef39-8846315d236a"
      },
      "execution_count": null,
      "outputs": [
        {
          "output_type": "stream",
          "name": "stdout",
          "text": [
            "==1799== NVPROF is profiling process 1799, command: ./a.out\n",
            "c[0]=0, c[999999] = 2999997==1799== Profiling application: ./a.out\n",
            "==1799== Profiling result:\n",
            "            Type  Time(%)      Time     Calls       Avg       Min       Max  Name\n",
            " GPU activities:   52.00%  1.7214ms         1  1.7214ms  1.7214ms  1.7214ms  [CUDA memcpy DtoH]\n",
            "                   46.57%  1.5416ms         2  770.81us  739.51us  802.10us  [CUDA memcpy HtoD]\n",
            "                    1.43%  47.487us         1  47.487us  47.487us  47.487us  add(int*, int*, int*)\n",
            "      API calls:   97.26%  251.03ms         3  83.676ms  88.460us  250.84ms  cudaMalloc\n",
            "                    1.97%  5.0869ms         3  1.6956ms  971.97us  3.1279ms  cudaMemcpy\n",
            "                    0.47%  1.2011ms         1  1.2011ms  1.2011ms  1.2011ms  cuDeviceGetPCIBusId\n",
            "                    0.22%  561.46us         3  187.15us  144.21us  209.07us  cudaFree\n",
            "                    0.06%  160.24us       101  1.5860us     257ns  64.117us  cuDeviceGetAttribute\n",
            "                    0.01%  35.202us         1  35.202us  35.202us  35.202us  cudaLaunchKernel\n",
            "                    0.01%  29.306us         1  29.306us  29.306us  29.306us  cuDeviceGetName\n",
            "                    0.00%  2.7380us         3     912ns     325ns  2.0390us  cuDeviceGetCount\n",
            "                    0.00%  1.1060us         2     553ns     285ns     821ns  cuDeviceGet\n",
            "                    0.00%     864ns         1     864ns     864ns     864ns  cuDeviceTotalMem\n",
            "                    0.00%     560ns         1     560ns     560ns     560ns  cuModuleGetLoadingMode\n",
            "                    0.00%     360ns         1     360ns     360ns     360ns  cuDeviceGetUuid\n"
          ]
        }
      ]
    }
  ]
}